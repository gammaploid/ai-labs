{
 "cells": [
  {
   "cell_type": "markdown",
   "id": "953d9599",
   "metadata": {},
   "source": [
    "\n",
    "# Description: PyTorch and MLX exploration\n",
    "# Licence: MIT Licence"
   ]
  },
  {
   "cell_type": "markdown",
   "id": "baf37ddb",
   "metadata": {},
   "source": [
    "## Imports"
   ]
  },
  {
   "cell_type": "markdown",
   "id": "1b2e62c8",
   "metadata": {},
   "source": [
    "# Excercises - PyTorch"
   ]
  },
  {
   "cell_type": "markdown",
   "id": "298785bf",
   "metadata": {},
   "source": [
    "## Imports"
   ]
  },
  {
   "cell_type": "code",
   "execution_count": null,
   "id": "7093ffa4",
   "metadata": {},
   "outputs": [],
   "source": [
    "import torch\n",
    "import numpy as np\n",
    "\n",
    "# Uncomment for Apple machines with Apple Silicon chipsets\n",
    "# !pip install mlx\n",
    "# import mlx.core as mx"
   ]
  },
  {
   "cell_type": "markdown",
   "id": "e317f005",
   "metadata": {},
   "source": [
    "## Exercise 1"
   ]
  },
  {
   "cell_type": "code",
   "execution_count": null,
   "id": "95803bd5",
   "metadata": {},
   "outputs": [
    {
     "name": "stdout",
     "output_type": "stream",
     "text": [
      "Tensor with values from 1 to 10: tensor([ 1,  2,  3,  4,  5,  6,  7,  8,  9, 10])\n"
     ]
    }
   ],
   "source": [
    "# Create a tensor with values ranging from 1 to 10\n",
    "tensor_1 = torch.arange(1, 11)\n",
    "print(\"Tensor with values from 1 to 10:\", tensor_1)"
   ]
  },
  {
   "cell_type": "markdown",
   "id": "b3a59618",
   "metadata": {},
   "source": [
    "## Exercise 2"
   ]
  },
  {
   "cell_type": "code",
   "execution_count": 2,
   "id": "c8953db5",
   "metadata": {},
   "outputs": [
    {
     "name": "stdout",
     "output_type": "stream",
     "text": [
      "3x3 Tensor with random values: tensor([[0.8598, 0.5859, 0.3735],\n",
      "        [0.8494, 0.3896, 0.8948],\n",
      "        [0.7720, 0.3016, 0.7295]])\n",
      "Shape of the tensor: torch.Size([3, 3])\n"
     ]
    }
   ],
   "source": [
    "# Create a 3x3 tensor with random values\n",
    "tensor_2 = torch.rand(3, 3)\n",
    "print(\"3x3 Tensor with random values:\", tensor_2)\n",
    "print(\"Shape of the tensor:\", tensor_2.shape)"
   ]
  },
  {
   "cell_type": "markdown",
   "id": "0ed72206",
   "metadata": {},
   "source": [
    "## Exercise 3"
   ]
  },
  {
   "cell_type": "code",
   "execution_count": 3,
   "id": "66b324b7",
   "metadata": {},
   "outputs": [
    {
     "name": "stdout",
     "output_type": "stream",
     "text": [
      "Element-wise addition: tensor([5, 7, 9])\n",
      "Element-wise multiplication: tensor([ 4, 10, 18])\n"
     ]
    }
   ],
   "source": [
    "# Create two tensors\n",
    "tensor_a = torch.tensor([1, 2, 3])\n",
    "tensor_b = torch.tensor([4, 5, 6])\n",
    "# Perform element-wise addition\n",
    "tensor_add = tensor_a + tensor_b\n",
    "print(\"Element-wise addition:\", tensor_add)\n",
    "# Perform element-wise multiplication\n",
    "tensor_mul = tensor_a * tensor_b\n",
    "print(\"Element-wise multiplication:\", tensor_mul)"
   ]
  },
  {
   "cell_type": "markdown",
   "id": "71c8b157",
   "metadata": {},
   "source": [
    "## Exercise 4"
   ]
  },
  {
   "cell_type": "code",
   "execution_count": 4,
   "id": "f3c3507d",
   "metadata": {},
   "outputs": [
    {
     "name": "stdout",
     "output_type": "stream",
     "text": [
      "Matrix multiplication result: tensor([[0.9114, 1.3235],\n",
      "        [1.2365, 1.3782]])\n"
     ]
    }
   ],
   "source": [
    "# Create a 2x3 tensor\n",
    "tensor_c = torch.rand(2, 3)\n",
    "# Create a 3x2 tensor\n",
    "tensor_d = torch.rand(3, 2)\n",
    "# Perform matrix multiplication\n",
    "tensor_matmul = torch.matmul(tensor_c, tensor_d)\n",
    "print(\"Matrix multiplication result:\", tensor_matmul)"
   ]
  },
  {
   "cell_type": "markdown",
   "id": "515e053e",
   "metadata": {},
   "source": [
    "## Exercise 5"
   ]
  },
  {
   "cell_type": "code",
   "execution_count": null,
   "id": "5e0ca23e",
   "metadata": {},
   "outputs": [
    {
     "name": "stdout",
     "output_type": "stream",
     "text": [
      "Tensor from NumPy array: tensor([1, 2, 3, 4, 5])\n",
      "Tensor after addition: tensor([11, 12, 13, 14, 15])\n"
     ]
    }
   ],
   "source": [
    "# Create a NumPy array\n",
    "numpy_array = np.array([1, 2, 3, 4, 5])\n",
    "# Convert NumPy array to PyTorch tensor\n",
    "tensor_from_numpy = torch.from_numpy(numpy_array)\n",
    "print(\"Tensor from NumPy array:\", tensor_from_numpy)\n",
    "# Perform a basic operation (e.g., addition)\n",
    "tensor_addition = tensor_from_numpy + 10\n",
    "print(\"Tensor after addition:\", tensor_addition)"
   ]
  },
  {
   "cell_type": "markdown",
   "id": "84d2c894",
   "metadata": {},
   "source": [
    "# Excercises - MLX Adatptaion (Apple Silicon chipsets)"
   ]
  },
  {
   "cell_type": "markdown",
   "id": "36582414",
   "metadata": {},
   "source": [
    "## Exercise 1"
   ]
  },
  {
   "cell_type": "code",
   "execution_count": null,
   "id": "c905a805",
   "metadata": {},
   "outputs": [
    {
     "name": "stdout",
     "output_type": "stream",
     "text": [
      "Collecting mlx\n",
      "  Downloading mlx-0.28.0-cp312-cp312-macosx_15_0_arm64.whl.metadata (5.7 kB)\n",
      "Collecting mlx-metal==0.28.0 (from mlx)\n",
      "  Downloading mlx_metal-0.28.0-py3-none-macosx_15_0_arm64.whl.metadata (5.1 kB)\n",
      "Downloading mlx-0.28.0-cp312-cp312-macosx_15_0_arm64.whl (540 kB)\n",
      "\u001b[2K   \u001b[90m━━━━━━━━━━━━━━━━━━━━━━━━━━━━━━━━━━━━━━━━\u001b[0m \u001b[32m540.1/540.1 kB\u001b[0m \u001b[31m6.4 MB/s\u001b[0m eta \u001b[36m0:00:00\u001b[0ma \u001b[36m0:00:01\u001b[0m\n",
      "\u001b[?25hDownloading mlx_metal-0.28.0-py3-none-macosx_15_0_arm64.whl (33.2 MB)\n",
      "\u001b[2K   \u001b[90m━━━━━━━━━━━━━━━━━━━━━━━━━━━━━━━━━━━━━━━━\u001b[0m \u001b[32m33.2/33.2 MB\u001b[0m \u001b[31m6.0 MB/s\u001b[0m eta \u001b[36m0:00:00\u001b[0m00:01\u001b[0m00:01\u001b[0m\n",
      "\u001b[?25hInstalling collected packages: mlx-metal, mlx\n",
      "Successfully installed mlx-0.28.0 mlx-metal-0.28.0\n",
      "MLX Tensor with values from 1 to 10: array([1, 2, 3, ..., 8, 9, 10], dtype=int32)\n"
     ]
    }
   ],
   "source": [
    "# Create a tensor with values ranging from 1 to 10\n",
    "tensor_1_mlx = mx.arange(1, 11)\n",
    "print(\"MLX Tensor with values from 1 to 10:\", tensor_1_mlx)"
   ]
  },
  {
   "cell_type": "markdown",
   "id": "ac30025e",
   "metadata": {},
   "source": [
    "## Exercise 2"
   ]
  },
  {
   "cell_type": "code",
   "execution_count": 9,
   "id": "5f213cf3",
   "metadata": {},
   "outputs": [
    {
     "name": "stdout",
     "output_type": "stream",
     "text": [
      "3x3 MLX Tensor with random values: array([[0.789517, 0.718034, 0.141473],\n",
      "       [0.196929, 0.0678719, 0.239125],\n",
      "       [0.540743, 0.713877, 0.168976]], dtype=float32)\n",
      "Shape of the tensor: (3, 3)\n"
     ]
    }
   ],
   "source": [
    "# Create a 3x3 tensor with random values\n",
    "# Note: MLX's random functions require a shape tuple\n",
    "tensor_2_mlx = mx.random.uniform(shape=(3, 3))\n",
    "print(\"3x3 MLX Tensor with random values:\", tensor_2_mlx)\n",
    "print(\"Shape of the tensor:\", tensor_2_mlx.shape)"
   ]
  },
  {
   "cell_type": "markdown",
   "id": "9692864e",
   "metadata": {},
   "source": [
    "## Exercise 3"
   ]
  },
  {
   "cell_type": "code",
   "execution_count": 10,
   "id": "7b697530",
   "metadata": {},
   "outputs": [
    {
     "name": "stdout",
     "output_type": "stream",
     "text": [
      "Element-wise addition: array([5, 7, 9], dtype=int32)\n",
      "Element-wise multiplication: array([4, 10, 18], dtype=int32)\n"
     ]
    }
   ],
   "source": [
    "# Create two tensors\n",
    "tensor_a_mlx = mx.array([1, 2, 3])\n",
    "tensor_b_mlx = mx.array([4, 5, 6])\n",
    "\n",
    "# Perform element-wise addition\n",
    "tensor_add_mlx = tensor_a_mlx + tensor_b_mlx\n",
    "print(\"Element-wise addition:\", tensor_add_mlx)\n",
    "\n",
    "# Perform element-wise multiplication\n",
    "tensor_mul_mlx = tensor_a_mlx * tensor_b_mlx\n",
    "print(\"Element-wise multiplication:\", tensor_mul_mlx)"
   ]
  },
  {
   "cell_type": "markdown",
   "id": "af3512c1",
   "metadata": {},
   "source": [
    "## Exercise 4"
   ]
  },
  {
   "cell_type": "code",
   "execution_count": 11,
   "id": "bc7ae278",
   "metadata": {},
   "outputs": [
    {
     "name": "stdout",
     "output_type": "stream",
     "text": [
      "Matrix multiplication result: array([[0.567234, 0.539742],\n",
      "       [1.22613, 1.15579]], dtype=float32)\n"
     ]
    }
   ],
   "source": [
    "# Create a 2x3 tensor\n",
    "tensor_c_mlx = mx.random.uniform(shape=(2, 3))\n",
    "# Create a 3x2 tensor\n",
    "tensor_d_mlx = mx.random.uniform(shape=(3, 2))\n",
    "\n",
    "# Perform matrix multiplication\n",
    "tensor_matmul_mlx = mx.matmul(tensor_c_mlx, tensor_d_mlx)\n",
    "print(\"Matrix multiplication result:\", tensor_matmul_mlx)"
   ]
  },
  {
   "cell_type": "markdown",
   "id": "5346bf2c",
   "metadata": {},
   "source": [
    "## Exercise 5"
   ]
  },
  {
   "cell_type": "code",
   "execution_count": null,
   "id": "832a730a",
   "metadata": {},
   "outputs": [
    {
     "name": "stdout",
     "output_type": "stream",
     "text": [
      "Tensor from NumPy array: array([1, 2, 3, 4, 5], dtype=int64)\n",
      "Tensor after addition: array([11, 12, 13, 14, 15], dtype=int64)\n"
     ]
    }
   ],
   "source": [
    "# Create a NumPy array\n",
    "numpy_array_mlx = np.array([1, 2, 3, 4, 5])\n",
    "\n",
    "# Convert NumPy array to MLX tensor\n",
    "tensor_from_numpy_mlx = mx.array(numpy_array_mlx)\n",
    "print(\"Tensor from NumPy array:\", tensor_from_numpy_mlx)\n",
    "\n",
    "# Perform a basic operation (e.g., addition)\n",
    "tensor_addition_mlx = tensor_from_numpy_mlx + 10\n",
    "print(\"Tensor after addition:\", tensor_addition_mlx)"
   ]
  }
 ],
 "metadata": {
  "kernelspec": {
   "display_name": "wine_env (3.11.9)",
   "language": "python",
   "name": "python3"
  },
  "language_info": {
   "codemirror_mode": {
    "name": "ipython",
    "version": 3
   },
   "file_extension": ".py",
   "mimetype": "text/x-python",
   "name": "python",
   "nbconvert_exporter": "python",
   "pygments_lexer": "ipython3",
   "version": "3.11.9"
  }
 },
 "nbformat": 4,
 "nbformat_minor": 5
}
